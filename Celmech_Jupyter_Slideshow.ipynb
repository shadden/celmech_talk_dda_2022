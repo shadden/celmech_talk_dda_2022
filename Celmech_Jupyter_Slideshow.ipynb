{
 "cells": [
  {
   "cell_type": "markdown",
   "id": "11593974",
   "metadata": {
    "slideshow": {
     "slide_type": "slide"
    }
   },
   "source": [
    "# Celestial mechanics with the `celmech` code\n",
    "\n",
    "**Sam Hadden** (CITA)\n",
    "\n",
    "Collaborators: **Dan Tamayo** (Princeton), **David Hernandez** (CfA)\n",
    "\n"
   ]
  },
  {
   "cell_type": "code",
   "execution_count": 1,
   "id": "39167040",
   "metadata": {
    "slideshow": {
     "slide_type": "-"
    }
   },
   "outputs": [],
   "source": [
    "%matplotlib inline\n",
    "import matplotlib.pyplot as plt\n",
    "import numpy as np\n",
    "from sympy import init_printing\n",
    "init_printing()"
   ]
  },
  {
   "cell_type": "markdown",
   "id": "8a49d3eb",
   "metadata": {
    "slideshow": {
     "slide_type": "slide"
    }
   },
   "source": [
    "# What is `celmech`?\n",
    "\n",
    "- Code for celestial mechanics calculations\n",
    "    - Calculate disturbing function expansion\n",
    "    - Construct, manipulate, and integrate Hamiltonian equations of motion\n",
    "    - Much more...\n",
    "- Developed mainly in `python`\n",
    "- Designed to work with the [`rebound`](https://github.com/hannorein/rebound) N-body code (Rein & Liu 2012)\n",
    "- Symbolic mathematics with [`sympy`](https://www.sympy.org/en/index.html) (Meurer et. al. 2017)"
   ]
  },
  {
   "cell_type": "markdown",
   "id": "73cc72fd",
   "metadata": {
    "slideshow": {
     "slide_type": "slide"
    }
   },
   "source": [
    "# Where is `celmech`?\n",
    "\n",
    "- PyPI: ``pip install celmech``\n",
    "- GitHub reposity at [github.com/shadden/celmech](https://github.com/shadden/celmech) \n",
    "    - Includes lots of Jupyter notebook examples\n",
    "- Documentation at [celmech.readthedocs.io](https://celmech.readthedocs.io)\n",
    "- This notebook is available on [GitHub](https://github.com/shadden/)!"
   ]
  },
  {
   "cell_type": "markdown",
   "id": "bda578c1",
   "metadata": {
    "slideshow": {
     "slide_type": "slide"
    }
   },
   "source": [
    "# An example\n",
    "A system of two Earth-mass planets near a 3:2 mean motion resonance"
   ]
  },
  {
   "cell_type": "code",
   "execution_count": 2,
   "id": "2fb0f468",
   "metadata": {
    "slideshow": {
     "slide_type": "-"
    }
   },
   "outputs": [
    {
     "data": {
      "image/png": "[encoded data removed]",
      "text/plain": [
       "<Figure size 360x360 with 1 Axes>"
      ]
     },
     "metadata": {
      "needs_background": "light"
     },
     "output_type": "display_data"
    }
   ],
   "source": [
    "import rebound\n",
    "rebound_sim = rebound.Simulation()\n",
    "rebound_sim.add(m=1)\n",
    "rebound_sim.add(m=3e-6,P = 1, e = 0.04)\n",
    "rebound_sim.add(m=3e-6,P = 3 / 2, e = 0.02,l=0.5,pomega = np.pi+1)\n",
    "rebound.OrbitPlot(rebound_sim,color=True,periastron=True);"
   ]
  },
  {
   "cell_type": "code",
   "execution_count": 3,
   "id": "26380d30",
   "metadata": {
    "slideshow": {
     "slide_type": "skip"
    }
   },
   "outputs": [],
   "source": [
    "sim2=rebound_sim.copy()"
   ]
  },
  {
   "cell_type": "markdown",
   "id": "49f27b08",
   "metadata": {
    "slideshow": {
     "slide_type": "slide"
    }
   },
   "source": [
    "# Initializing a ``celmech`` model \n",
    "- Create `Poincare` and `PoincareHamiltonian` instances\n",
    "- Initialize directly from a ``rebound`` simulation"
   ]
  },
  {
   "cell_type": "code",
   "execution_count": 4,
   "id": "489fe341",
   "metadata": {
    "slideshow": {
     "slide_type": "-"
    }
   },
   "outputs": [],
   "source": [
    "from celmech import Poincare, PoincareHamiltonian\n",
    "poincare_particles = Poincare.from_Simulation(rebound_sim)\n",
    "Hp = PoincareHamiltonian(poincare_particles)"
   ]
  },
  {
   "cell_type": "markdown",
   "id": "c88f9e9b",
   "metadata": {
    "slideshow": {
     "slide_type": "slide"
    }
   },
   "source": [
    "# The ``Poincare`` class \n",
    "- Represents system in terms of canonical variable pairs:\n",
    " $$\\begin{align}\n",
    " \\Lambda_i&= \\mu_i\\sqrt{GM_ia_i} ~;~ \\lambda_i \\\\\n",
    " (\\eta_i,\\kappa_i)&\\approx \\sqrt{\\Lambda_i}e_i \\times(-\\sin\\varpi_i,\\cos\\varpi_i)\\\\\n",
    "  (\\rho_i,\\sigma_i)&\\approx \\sqrt{\\Lambda_i}\\sin(I_i/2) \\times(-\\sin\\Omega_i,\\cos\\Omega_i)\\\\\n",
    " \\end{align}$$"
   ]
  },
  {
   "cell_type": "code",
   "execution_count": 5,
   "id": "b7139380",
   "metadata": {},
   "outputs": [
    {
     "data": {
      "text/plain": [
       "celmech.poincare.Poincare"
      ]
     },
     "execution_count": 5,
     "metadata": {},
     "output_type": "execute_result"
    }
   ],
   "source": [
    "type(poincare_particles)"
   ]
  },
  {
   "cell_type": "code",
   "execution_count": 6,
   "id": "dc8ab64f",
   "metadata": {},
   "outputs": [
    {
     "data": {
      "text/latex": [
       "$\\displaystyle \\left[ \\left( \\lambda_{1}, \\  \\Lambda_{1}\\right), \\  \\left( \\eta_{1}, \\  \\kappa_{1}\\right), \\  \\left( \\rho_{1}, \\  \\sigma_{1}\\right), \\  \\left( \\lambda_{2}, \\  \\Lambda_{2}\\right), \\  \\left( \\eta_{2}, \\  \\kappa_{2}\\right), \\  \\left( \\rho_{2}, \\  \\sigma_{2}\\right)\\right]$"
      ],
      "text/plain": [
       "[(λ₁, Λ₁), (η₁, κ₁), (ρ₁, σ₁), (λ₂, Λ₂), (η₂, κ₂), (ρ₂, σ₂)]"
      ]
     },
     "execution_count": 6,
     "metadata": {},
     "output_type": "execute_result"
    }
   ],
   "source": [
    "qp_pairs = poincare_particles.qp_pairs\n",
    "qp_pairs"
   ]
  },
  {
   "cell_type": "markdown",
   "id": "2d1aa6d7",
   "metadata": {
    "slideshow": {
     "slide_type": "slide"
    }
   },
   "source": [
    "# The ``Poincare`` class \n",
    "- Stores numerical values of canonical variables"
   ]
  },
  {
   "cell_type": "code",
   "execution_count": 11,
   "id": "a6d7b253",
   "metadata": {},
   "outputs": [
    {
     "data": {
      "text/latex": [
       "$\\displaystyle \\left( \\Lambda_{1}, \\  1.62577278057523 \\cdot 10^{-6}\\right)$"
      ],
      "text/plain": [
       "(Λ₁, 1.625772780575234e-06)"
      ]
     },
     "execution_count": 11,
     "metadata": {},
     "output_type": "execute_result"
    }
   ],
   "source": [
    "Lambda1 = qp_pairs[0][1]\n",
    "Lambda1, poincare_particles.qp[Lambda1]"
   ]
  },
  {
   "cell_type": "markdown",
   "id": "346f309f",
   "metadata": {},
   "source": [
    "- Also provides orbital mass, orbital elements, etc."
   ]
  },
  {
   "cell_type": "code",
   "execution_count": 13,
   "id": "a7925cc0",
   "metadata": {},
   "outputs": [
    {
     "data": {
      "text/latex": [
       "$\\displaystyle 1.62577278057523 \\cdot 10^{-6}$"
      ],
      "text/plain": [
       "1.625772780575234e-06"
      ]
     },
     "execution_count": 13,
     "metadata": {},
     "output_type": "execute_result"
    }
   ],
   "source": [
    "G = poincare_particles.G\n",
    "particle = poincare_particles.particles[1]\n",
    "particle.mu * np.sqrt(G * particle.M * particle.a)"
   ]
  },
  {
   "cell_type": "markdown",
   "id": "b5d6adb7",
   "metadata": {
    "slideshow": {
     "slide_type": "slide"
    }
   },
   "source": [
    "# The ``PoincareHamiltonian`` class \n",
    "- Represents a planetary system's Hamiltonian\n"
   ]
  },
  {
   "cell_type": "code",
   "execution_count": 14,
   "id": "dbc17beb",
   "metadata": {},
   "outputs": [
    {
     "data": {
      "text/plain": [
       "celmech.poincare.PoincareHamiltonian"
      ]
     },
     "execution_count": 14,
     "metadata": {},
     "output_type": "execute_result"
    }
   ],
   "source": [
    "type(Hp)"
   ]
  },
  {
   "cell_type": "markdown",
   "id": "8972918d",
   "metadata": {},
   "source": [
    "- The ``H`` attribute stores the symbolic Hamiltonian\n",
    "    - Upon intialization just Keplerian terms"
   ]
  },
  {
   "cell_type": "code",
   "execution_count": 15,
   "id": "20f966bc",
   "metadata": {
    "slideshow": {
     "slide_type": "-"
    }
   },
   "outputs": [
    {
     "data": {
      "text/latex": [
       "$\\displaystyle - \\frac{G^{2} M_{2}^{2} \\mu_{2}^{3}}{2 \\Lambda_{2}^{2}} - \\frac{G^{2} M_{1}^{2} \\mu_{1}^{3}}{2 \\Lambda_{1}^{2}}$"
      ],
      "text/plain": [
       "   2   2   3    2   2   3\n",
       "  G ⋅M₂ ⋅μ₂    G ⋅M₁ ⋅μ₁ \n",
       "- ────────── - ──────────\n",
       "        2            2   \n",
       "    2⋅Λ₂         2⋅Λ₁    "
      ]
     },
     "execution_count": 15,
     "metadata": {},
     "output_type": "execute_result"
    }
   ],
   "source": [
    "Hp.H"
   ]
  },
  {
   "cell_type": "markdown",
   "id": "db11d294",
   "metadata": {},
   "source": [
    " - Or, in orbital elements: \n",
    " $$\n",
    " -\\frac{Gm_*m_1}{2a_1}-\\frac{Gm_*m_2}{2a_2}\n",
    " $$"
   ]
  },
  {
   "cell_type": "markdown",
   "id": "64fd2654",
   "metadata": {
    "slideshow": {
     "slide_type": "slide"
    }
   },
   "source": [
    "# The ``PoincareHamiltonian`` class \n",
    "- Stores numerical values of symbolic parameters as well"
   ]
  },
  {
   "cell_type": "code",
   "execution_count": 20,
   "id": "e3263a5c",
   "metadata": {
    "slideshow": {
     "slide_type": "-"
    }
   },
   "outputs": [
    {
     "data": {
      "text/latex": [
       "$\\displaystyle - \\frac{1.34999595001215 \\cdot 10^{-17}}{\\Lambda_{2}^{2}} - \\frac{1.34999595001215 \\cdot 10^{-17}}{\\Lambda_{1}^{2}}$"
      ],
      "text/plain": [
       "  1.34999595001215e-17   1.34999595001215e-17\n",
       "- ──────────────────── - ────────────────────\n",
       "            2                      2         \n",
       "          Λ₂                     Λ₁          "
      ]
     },
     "execution_count": 20,
     "metadata": {},
     "output_type": "execute_result"
    }
   ],
   "source": [
    "Hp.N_H"
   ]
  },
  {
   "cell_type": "markdown",
   "id": "18b04358",
   "metadata": {
    "slideshow": {
     "slide_type": "slide"
    }
   },
   "source": [
    "# Building a Hamiltonian\n",
    "- Users build up a Hamiltonian by selecting and adding disturbing function terms\n",
    "- ``PoincareHamiltonian`` includes an extensive interface for specifying and adding terms\n",
    "- We'll add terms for the 3:2 MMR"
   ]
  },
  {
   "cell_type": "code",
   "execution_count": 11,
   "id": "321f3d6c",
   "metadata": {
    "slideshow": {
     "slide_type": "-"
    }
   },
   "outputs": [],
   "source": [
    "Hp.add_MMR_terms(p=3,q=1,max_order=1,indexIn=1,indexOut=2)"
   ]
  },
  {
   "cell_type": "markdown",
   "id": "b241a61d",
   "metadata": {},
   "source": [
    "- The symbolic Hamiltonian is updated with the newly-added terms"
   ]
  },
  {
   "cell_type": "code",
   "execution_count": 12,
   "id": "a0c48654",
   "metadata": {
    "slideshow": {
     "slide_type": "-"
    }
   },
   "outputs": [
    {
     "data": {
      "text/latex": [
       "$\\displaystyle - \\frac{C_{(3,-2,-1,0,0,0)}^{(0,0,0,0),(0,0)}(\\alpha_{1,2}) G m_{1} m_{2} \\left(\\frac{\\eta_{1} \\sin{\\left(2 \\lambda_{1} - 3 \\lambda_{2} \\right)}}{\\sqrt{\\Lambda_{1,0}}} + \\frac{\\kappa_{1} \\cos{\\left(2 \\lambda_{1} - 3 \\lambda_{2} \\right)}}{\\sqrt{\\Lambda_{1,0}}}\\right)}{a_{2,0}} - \\frac{C_{(3,-2,0,-1,0,0)}^{(0,0,0,0),(0,0)}(\\alpha_{1,2}) G m_{1} m_{2} \\left(\\frac{\\eta_{2} \\sin{\\left(2 \\lambda_{1} - 3 \\lambda_{2} \\right)}}{\\sqrt{\\Lambda_{2,0}}} + \\frac{\\kappa_{2} \\cos{\\left(2 \\lambda_{1} - 3 \\lambda_{2} \\right)}}{\\sqrt{\\Lambda_{2,0}}}\\right)}{a_{2,0}} - \\frac{G^{2} M_{2}^{2} \\mu_{2}^{3}}{2 \\Lambda_{2}^{2}} - \\frac{G^{2} M_{1}^{2} \\mu_{1}^{3}}{2 \\Lambda_{1}^{2}}$"
      ],
      "text/plain": [
       "                                                               ⎛η₁⋅sin(2⋅λ₁ - \n",
       "  C_{(3,-2,-1,0,0,0)}_{1,2})__{(0,0,0,0),(0,0)}(\\alpha⋅G⋅m₁⋅m₂⋅⎜──────────────\n",
       "                                                               ⎜   ___________\n",
       "                                                               ⎝ ╲╱ \\Lambda_{1\n",
       "- ────────────────────────────────────────────────────────────────────────────\n",
       "                                                  a_{2,0}                     \n",
       "                                                                              \n",
       "\n",
       "3⋅λ₂)   κ₁⋅cos(2⋅λ₁ - 3⋅λ₂)⎞                                                  \n",
       "───── + ───────────────────⎟   C_{(3,-2,0,-1,0,0)}_{1,2})__{(0,0,0,0),(0,0)}(\\\n",
       "____       _______________ ⎟                                                  \n",
       ",0}      ╲╱ \\Lambda_{1,0}  ⎠                                                  \n",
       "──────────────────────────── - ───────────────────────────────────────────────\n",
       "                                                                              \n",
       "                                                                              \n",
       "\n",
       "              ⎛η₂⋅sin(2⋅λ₁ - 3⋅λ₂)   κ₂⋅cos(2⋅λ₁ - 3⋅λ₂)⎞                     \n",
       "alpha⋅G⋅m₁⋅m₂⋅⎜─────────────────── + ───────────────────⎟                     \n",
       "              ⎜   _______________       _______________ ⎟    2   2   3    2   \n",
       "              ⎝ ╲╱ \\Lambda_{2,0}      ╲╱ \\Lambda_{2,0}  ⎠   G ⋅M₂ ⋅μ₂    G ⋅M₁\n",
       "───────────────────────────────────────────────────────── - ────────── - ─────\n",
       " a_{2,0}                                                          2           \n",
       "                                                              2⋅Λ₂         2⋅Λ\n",
       "\n",
       "     \n",
       "     \n",
       "2   3\n",
       " ⋅μ₁ \n",
       "─────\n",
       " 2   \n",
       "₁    "
      ]
     },
     "execution_count": 12,
     "metadata": {},
     "output_type": "execute_result"
    }
   ],
   "source": [
    "Hp.H"
   ]
  },
  {
   "cell_type": "markdown",
   "id": "28029d62",
   "metadata": {
    "slideshow": {
     "slide_type": "slide"
    }
   },
   "source": [
    "# Building a Hamiltonian\n",
    "- Equivalent in terms of orbital elements:"
   ]
  },
  {
   "cell_type": "code",
   "execution_count": 13,
   "id": "fae70678",
   "metadata": {
    "slideshow": {
     "slide_type": "-"
    }
   },
   "outputs": [
    {
     "data": {
      "text/latex": [
       "$\\displaystyle -\\frac{Gm_1m_2}{a_{2,0}}\\tilde{C}_{(3,-2,0,-1,0,0)}^{(0,0,0,0)}(\\alpha_{1,2})e_2\\cos(3\\lambda_2-2\\lambda_1-\\varpi_2)-\\frac{Gm_1m_2}{a_{2,0}}\\tilde{C}_{(3,-2,-1,0,0,0)}^{(0,0,0,0)}(\\alpha_{1,2})e_1\\cos(3\\lambda_2-2\\lambda_1-\\varpi_1)$"
      ],
      "text/plain": [
       "<IPython.core.display.Math object>"
      ]
     },
     "metadata": {},
     "output_type": "display_data"
    }
   ],
   "source": [
    "Hp.df"
   ]
  },
  {
   "cell_type": "markdown",
   "id": "85f0b54a",
   "metadata": {
    "slideshow": {
     "slide_type": "slide"
    }
   },
   "source": [
    "# Integrating Hamilton's equations\n",
    " - Equations of motion automatically generated from the Hamiltonian\n",
    " - Integration and particle interface designed to mirror ``rebound``"
   ]
  },
  {
   "cell_type": "code",
   "execution_count": 14,
   "id": "7120ae69",
   "metadata": {
    "slideshow": {
     "slide_type": "-"
    }
   },
   "outputs": [],
   "source": [
    "rebound_particles = rebound_sim.particles\n",
    "celmech_particles = Hp.particles\n",
    "\n",
    "# times to save output\n",
    "times = np.linspace(0,500 * rebound_particles[1].P,100)\n",
    "\n",
    "# Arrays to store results\n",
    "eIn_rebound,eIn_celmech = np.zeros((2,100))\n",
    "\n",
    "# Main integration loop\n",
    "for i,t in enumerate(times):\n",
    "    rebound_sim.integrate(t)\n",
    "    Hp.integrate(t)\n",
    "    # save eccentricity of inner planet\n",
    "    eIn_rebound[i] = rebound_particles[1].e\n",
    "    eIn_celmech[i] = celmech_particles[1].e\n",
    "    "
   ]
  },
  {
   "cell_type": "markdown",
   "id": "8c140948",
   "metadata": {
    "slideshow": {
     "slide_type": "slide"
    }
   },
   "source": [
    "# Comparing $N$-body and ``celmech``\n",
    "- The simple ``celmech`` model shows fair agreement with direct $N$-body integration"
   ]
  },
  {
   "cell_type": "code",
   "execution_count": 15,
   "id": "1ceeb39c",
   "metadata": {
    "slideshow": {
     "slide_type": "-"
    },
    "tags": [
     "to_remove"
    ]
   },
   "outputs": [
    {
     "data": {
      "image/png": "[encoded data removed]",
      "text/plain": [
       "<Figure size 576x360 with 1 Axes>"
      ]
     },
     "metadata": {
      "needs_background": "light"
     },
     "output_type": "display_data"
    }
   ],
   "source": [
    "fig,ax = plt.subplots(1,sharex=True,figsize=(8,5))\n",
    "plt.tick_params(labelsize=15,direction='in',size=8)\n",
    "ax.plot(times,eIn_rebound,color='k',lw=2,label='rebound')\n",
    "ax.plot(times,eIn_celmech,color='r',lw=2,label='celmech')\n",
    "ax.set_ylabel(r\"$e$\",fontsize=20)\n",
    "ax.legend(fontsize=12)\n",
    "ax.set_xlabel(r\"Time [$P_\\mathrm{in}$]\",fontsize=20);"
   ]
  },
  {
   "cell_type": "markdown",
   "id": "ba14fa7f",
   "metadata": {
    "slideshow": {
     "slide_type": "slide"
    }
   },
   "source": [
    "# Making a more accurate ``celmech`` model\n",
    "Now we'll include:\n",
    "- Secular terms up to 2nd order in planets' eccentricities\n",
    "- 3:2 resonant terms up to 3rd order in planets' eccentricities"
   ]
  },
  {
   "cell_type": "code",
   "execution_count": 16,
   "id": "4f751b86",
   "metadata": {
    "slideshow": {
     "slide_type": "skip"
    }
   },
   "outputs": [],
   "source": [
    "pvars = Poincare.from_Simulation(sim2)\n",
    "Hp = PoincareHamiltonian(pvars)"
   ]
  },
  {
   "cell_type": "code",
   "execution_count": 17,
   "id": "81a7e43c",
   "metadata": {
    "scrolled": false
   },
   "outputs": [],
   "source": [
    "Hp.add_secular_terms(max_order=2,indexIn=1,indexOut=2,inclinations=False)\n",
    "Hp.add_MMR_terms(p=3,q=1,max_order=3,indexIn=1,indexOut=2,inclinations=False)"
   ]
  },
  {
   "cell_type": "markdown",
   "id": "a6c1337c",
   "metadata": {
    "slideshow": {
     "slide_type": "slide"
    }
   },
   "source": [
    "# Terms included in the improved model\n",
    "Many more disturbing function terms are now included:\n",
    "\n",
    "- Secular terms:\n",
    "$$\n",
    "-\\frac{Gm_1m_2}{a_{2,0}}\\tilde{C}_{(0,0,0,0,0,0)}^{(0,0,0,1)}(\\alpha_{1,2})e_2^2\n",
    "-\\frac{Gm_1m_2}{a_{2,0}}\\tilde{C}_{(0,0,0,0,0,0)}^{(0,0,1,0)}(\\alpha_{1,2})e_1^2\n",
    "-\\frac{Gm_1m_2}{a_{2,0}}\\tilde{C}_{(0,0,-1,1,0,0)}^{(0,0,0,0)}(\\alpha_{1,2})e_1e_2\\cos(-\\varpi_1+\\varpi_2)\n",
    "$$"
   ]
  },
  {
   "cell_type": "markdown",
   "id": "4369d733",
   "metadata": {
    "slideshow": {
     "slide_type": "slide"
    }
   },
   "source": [
    "# ...\n",
    "\n",
    "- 6:4 terms:\n",
    "$$\n",
    "-\\frac{Gm_1m_2}{a_{2,0}}\\tilde{C}_{(6,-4,0,-2,0,0)}^{(0,0,0,0)}(\\alpha_{1,2})e_2^2\\cos(6\\lambda_2-4\\lambda_1-2\\varpi_2)\\\\\n",
    "-\\frac{Gm_1m_2}{a_{2,0}}\\tilde{C}_{(6,-4,-1,-1,0,0)}^{(0,0,0,0)}(\\alpha_{1,2})e_1e_2\\cos(6\\lambda_2-4\\lambda_1-\\varpi_1-\\varpi_2)\\\\\n",
    "-\\frac{Gm_1m_2}{a_{2,0}}\\tilde{C}_{(6,-4,-2,0,0,0)}^{(0,0,0,0)}(\\alpha_{1,2})e_1^2\\cos(6\\lambda_2-4\\lambda_1-2\\varpi_1)\n",
    "$$"
   ]
  },
  {
   "cell_type": "markdown",
   "id": "53a55670",
   "metadata": {
    "slideshow": {
     "slide_type": "slide"
    }
   },
   "source": [
    "# ...\n",
    "- 9:6 terms:\n",
    "$$\n",
    "-\\frac{Gm_1m_2}{a_{2,0}}\\tilde{C}_{(9,-6,0,-3,0,0)}^{(0,0,0,0)}(\\alpha_{1,2})e_2^3\\cos(9\\lambda_2-6\\lambda_1-3\\varpi_2)\\\\\n",
    "-\\frac{Gm_1m_2}{a_{2,0}}\\tilde{C}_{(9,-6,-1,-2,0,0)}^{(0,0,0,0)}(\\alpha_{1,2})e_1e_2^2\\cos(9\\lambda_2-6\\lambda_1-\\varpi_1-2\\varpi_2)\\\\\n",
    "-\\frac{Gm_1m_2}{a_{2,0}}\\tilde{C}_{(9,-6,-2,-1,0,0)}^{(0,0,0,0)}(\\alpha_{1,2})e_1^2e_2\\cos(9\\lambda_2-6\\lambda_1-2\\varpi_1-\\varpi_2)\\\\\n",
    "-\\frac{Gm_1m_2}{a_{2,0}}\\tilde{C}_{(9,-6,-3,0,0,0)}^{(0,0,0,0)}(\\alpha_{1,2})e_1^3\\cos(9\\lambda_2-6\\lambda_1-3\\varpi_1)\n",
    "$$"
   ]
  },
  {
   "cell_type": "markdown",
   "id": "07b8a4a4",
   "metadata": {
    "slideshow": {
     "slide_type": "slide"
    }
   },
   "source": [
    "# ...\n",
    "- 3rd order 3:2 terms:\n",
    "$$\n",
    "-\\frac{Gm_1m_2}{a_{2,0}}\\tilde{C}_{(3,-2,0,-1,0,0)}^{(0,0,0,1)}(\\alpha_{1,2})e_2^3\\cos(3\\lambda_2-2\\lambda_1-\\varpi_2)\\\\\n",
    "-\\frac{Gm_1m_2}{a_{2,0}}\\tilde{C}_{(3,-2,0,-1,0,0)}^{(0,0,1,0)}(\\alpha_{1,2})e_1^2e_2\\cos(3\\lambda_2-2\\lambda_1-\\varpi_2)\\\\\n",
    "-\\frac{Gm_1m_2}{a_{2,0}}\\tilde{C}_{(3,-2,-1,0,0,0)}^{(0,0,0,1)}(\\alpha_{1,2})e_1e_2^2\\cos(3\\lambda_2-2\\lambda_1-\\varpi_1)\\\\\n",
    "-\\frac{Gm_1m_2}{a_{2,0}}\\tilde{C}_{(3,-2,-1,0,0,0)}^{(0,0,1,0)}(\\alpha_{1,2})e_1^3\\cos(3\\lambda_2-2\\lambda_1-\\varpi_1)\\\\\n",
    "-\\frac{Gm_1m_2}{a_{2,0}}\\tilde{C}_{(3,-2,1,-2,0,0)}^{(0,0,0,0)}(\\alpha_{1,2})e_1e_2^2\\cos(3\\lambda_2-2\\lambda_1+\\varpi_1-2\\varpi_2)\\\\\n",
    "-\\frac{Gm_1m_2}{a_{2,0}}\\tilde{C}_{(3,-2,-2,1,0,0)}^{(0,0,0,0)}(\\alpha_{1,2})e_1^2e_2\\cos(3\\lambda_2-2\\lambda_1-2\\varpi_1+\\varpi_2)\n",
    "$$"
   ]
  },
  {
   "cell_type": "markdown",
   "id": "1d6048d2",
   "metadata": {
    "slideshow": {
     "slide_type": "slide"
    }
   },
   "source": [
    "These terms would be tedious to add by hand..."
   ]
  },
  {
   "cell_type": "code",
   "execution_count": 18,
   "id": "90f06d6d",
   "metadata": {
    "slideshow": {
     "slide_type": "skip"
    }
   },
   "outputs": [],
   "source": [
    "from celmech.lie_transformations import FirstOrderGeneratingFunction\n",
    "chi = FirstOrderGeneratingFunction(pvars)\n",
    "chi.add_zeroth_order_term(indexIn=1,indexOut=2)\n",
    "chi.add_MMR_terms(2,1,indexIn=1,indexOut=2)\n",
    "chi.add_MMR_terms(4,1,indexIn=1,indexOut=2)\n",
    "chi.osculating_to_mean()"
   ]
  },
  {
   "cell_type": "code",
   "execution_count": 19,
   "id": "4e2ae313",
   "metadata": {
    "slideshow": {
     "slide_type": "skip"
    }
   },
   "outputs": [],
   "source": [
    "rebound_particles = sim2.particles\n",
    "celmech_particles = Hp.particles\n",
    "times = np.linspace(0,500 * rebound_particles[1].P,100)\n",
    "eIn_rebound,eIn_celmech = np.zeros((2,100))\n",
    "thetaIn_rebound,thetaIn_celmech = np.zeros((2,100))\n",
    "energy = np.zeros(100)\n",
    "for i,t in enumerate(times):\n",
    "    sim2.integrate(t)\n",
    "    Hp.integrate(t)\n",
    "    energy[i] = Hp.calculate_energy()\n",
    "    eIn_rebound[i] = rebound_particles[1].e\n",
    "    eIn_celmech[i] = celmech_particles[1].e\n",
    "    \n",
    "    thetaIn_rebound[i] = -2*rebound_particles[1].l + 3*rebound_particles[2].l - rebound_particles[1].pomega\n",
    "    thetaIn_celmech[i] = -2*celmech_particles[1].l + 3*celmech_particles[2].l - celmech_particles[1].pomega"
   ]
  },
  {
   "cell_type": "markdown",
   "id": "e030f65a",
   "metadata": {
    "slideshow": {
     "slide_type": "slide"
    }
   },
   "source": [
    "# Improved agreement with higher order model\n",
    "The higher-order model now shows excellent agreement with $N$-body"
   ]
  },
  {
   "cell_type": "code",
   "execution_count": 20,
   "id": "6b76ccd4",
   "metadata": {
    "slideshow": {
     "slide_type": "-"
    },
    "tags": [
     "to_remove"
    ]
   },
   "outputs": [
    {
     "data": {
      "text/plain": [
       "Text(0.5, 0, 'Time [$P_\\\\mathrm{in}$]')"
      ]
     },
     "execution_count": 20,
     "metadata": {},
     "output_type": "execute_result"
    },
    {
     "data": {
      "image/png": "[encoded data removed]",
      "text/plain": [
       "<Figure size 576x360 with 1 Axes>"
      ]
     },
     "metadata": {
      "needs_background": "light"
     },
     "output_type": "display_data"
    }
   ],
   "source": [
    "fig,ax = plt.subplots(1,sharex=True,figsize=(8,5))\n",
    "plt.tick_params(labelsize=15,direction='in',size=8)\n",
    "ax.plot(times,eIn_rebound,color='k',lw=2,label='rebound')\n",
    "ax.plot(times,eIn_celmech,color='r',lw=2,label='celmech')\n",
    "ax.set_ylabel(r\"$e$\",fontsize=20)\n",
    "ax.legend(fontsize=12)\n",
    "ax.set_xlabel(r\"Time [$P_\\mathrm{in}$]\",fontsize=20)"
   ]
  },
  {
   "cell_type": "code",
   "execution_count": 21,
   "id": "6ec64d16",
   "metadata": {
    "slideshow": {
     "slide_type": "skip"
    },
    "tags": [
     "to_remove"
    ]
   },
   "outputs": [
    {
     "data": {
      "text/plain": [
       "Text(0.5, 0, 'Time [$P_\\\\mathrm{in}$]')"
      ]
     },
     "execution_count": 21,
     "metadata": {},
     "output_type": "execute_result"
    },
    {
     "data": {
      "image/png": "[encoded data removed]",
      "text/plain": [
       "<Figure size 576x720 with 2 Axes>"
      ]
     },
     "metadata": {
      "needs_background": "light"
     },
     "output_type": "display_data"
    }
   ],
   "source": [
    "fig,ax = plt.subplots(2,1,sharex=True,figsize=(8,10))\n",
    "for a in ax:\n",
    "    plt.sca(a)\n",
    "    plt.tick_params(labelsize=15,direction='in',size=8)\n",
    "wrap2pi = lambda x: np.mod(x+np.pi,2*np.pi)-np.pi\n",
    "thetaIn_rebound = wrap2pi(thetaIn_rebound)\n",
    "thetaIn_celmech = wrap2pi(thetaIn_celmech)\n",
    "\n",
    "ax[0].plot(times,eIn_rebound,color='k',lw=2,label='rebound')\n",
    "ax[0].plot(times,eIn_celmech,color='r',lw=2,label='celmech')\n",
    "ax[0].set_ylabel(r\"$e$\",fontsize=20)\n",
    "ax[0].legend(fontsize=12)\n",
    "\n",
    "\n",
    "ax[1].plot(times,thetaIn_rebound,color='k',lw=2,label='rebound')\n",
    "ax[1].plot(times,thetaIn_celmech,color='r',lw=2,label='celmech')\n",
    "ax[1].set_ylim(-np.pi,np.pi)\n",
    "ax[1].set_yticks([-np.pi,-0.5*np.pi,0,0.5*np.pi,np.pi])\n",
    "ax[1].yaxis.set_ticklabels([r\"$-\\pi$\",r\"$-\\pi/2$\",r\"$0$\",r\"$\\pi/2$\",r\"$\\pi$\"])\n",
    "ax[1].set_ylabel(r\"$3\\lambda'-2\\lambda-\\varpi$\",fontsize=20)\n",
    "ax[1].set_xlabel(r\"Time [$P_\\mathrm{in}$]\",fontsize=20)"
   ]
  },
  {
   "cell_type": "markdown",
   "id": "2d7d97f6",
   "metadata": {
    "slideshow": {
     "slide_type": "slide"
    }
   },
   "source": [
    "# Basic principles\n",
    " - $N$-body codes like `rebound` integrate equations of motion directly:\n",
    "    $$\n",
    "    \\dot{\\mathbf{r}}_i = \\frac{1}{m_i}\\mathbf{p_i}\\\\\n",
    "    \\dot{\\mathbf{p}}_i = -\\sum_{i\\ne j}Gm_im_j\\frac{(\\mathbf{r}_i - \\mathbf{r}_j)}{|\\mathbf{r}_i - \\mathbf{r}_j|^3}\n",
    "    $$\n",
    " - `celmech` works with approximate equations of motion.\n",
    "     - Derived from disturbing function expansion of Hamiltonian in powers of $e$ and $I$\n",
    "     - Equations formulated in canonical \"action-angle\" variables"
   ]
  },
  {
   "cell_type": "markdown",
   "id": "1d28c22b",
   "metadata": {
    "slideshow": {
     "slide_type": "slide"
    }
   },
   "source": [
    "# Basic principles (con't.)\n",
    "The Hamiltonian is (e.g., [Laskar & Robutel 1995](https://ui.adsabs.harvard.edu/abs/1995CeMDA..62..193L/abstract)):"
   ]
  },
  {
   "cell_type": "markdown",
   "id": "c47c1892",
   "metadata": {
    "slideshow": {
     "slide_type": "-"
    }
   },
   "source": [
    "$$\n",
    "H =  \n",
    "{\\sum_{i=1}^{N-1}H_{\\mathrm{Kep},i}}\n",
    "+ \n",
    "{\\sum_{i=1}^{N-1} \\sum_{j=1}^{i}\n",
    "H_{\\mathrm{int.}}^{(i,j)}}\n",
    "$$ \n",
    "where \n",
    "$H_{\\mathrm{Kep},i}= \\frac{1}{2}\\frac{|\\tilde{\\mathbf{r}}_i|^2}{\\mu_i}   - \\frac{GM_*m_i}{|\\mathbf{r}_i|} = -\\frac{GM_*m_i}{2a_i}$ "
   ]
  },
  {
   "cell_type": "markdown",
   "id": "37cc3927",
   "metadata": {
    "slideshow": {
     "slide_type": "-"
    }
   },
   "source": [
    "and $$H_{\\mathrm{int.}}^{(i,j)}={-\\frac{Gm_im_j}{|\\mathbf{r}_i - \\mathbf{r}_j|}} + {\\frac{{\\mathbf{p}}_i \\cdot {\\mathbf{p}}_j }{M_*}}$$\n",
    "      "
   ]
  },
  {
   "cell_type": "markdown",
   "id": "7478fe20",
   "metadata": {
    "slideshow": {
     "slide_type": "slide"
    }
   },
   "source": [
    "# Basic principles (con't.)\n",
    "- Expand interaction Hamiltonian as a cosine series\n",
    "\n",
    "$$\n",
    "        -\\frac{Gm_im_j}{|\\mathbf{r}_i - \\mathbf{r}_j |} +\\frac{1}{m_*}\\mathbf{p}_i\\cdot\\mathbf{p}_j= \n",
    "        -\\frac{Gm_im_j}{a_j}\n",
    "        \\sum_{\\bf k}\n",
    "          S_\\mathbf{k}(a_i/a_j,e_i,e_i,I_i,I_j)\\cos(k_1\\lambda_j + k_2\\lambda_i - k_3\\varpi_i - k_4 \\varpi_j - k_5\\Omega_i - k_6\\Omega_j)\n",
    "$$\n",
    "\n",
    "- Then exapnd cosine coefficients, $S_\\mathbf{k}$, in powers of eccentricity and inclination:\n",
    "\n",
    "$$\n",
    " S_\\mathbf{k}= \\sum_{\\nu_1,\\nu_2,\\nu_3,\\nu_4=0}^\\infty \n",
    "          \\tilde{C}_{\\bf k}^{\\pmb{\n",
    "         \\nu}}(a_i/a_j)\\sin(I_i/2)^{|k_5|+2\\nu_1}\\sin(I_j/2)^{|k_6|+2\\nu_2}e_i^{|k_3|+2\\nu_3}e_j^{|k_4|+2\\nu_4}\n",
    "$$"
   ]
  },
  {
   "cell_type": "markdown",
   "id": "3ba29127",
   "metadata": {
    "slideshow": {
     "slide_type": "slide"
    }
   },
   "source": [
    "# General framework\n",
    "In canonical heliocentric variables (e.g., Laskar & Robutel 1995), the Hamiltonian\n",
    "is\n",
    "$$\n",
    "\\begin{eqnarray}\n",
    "        H &=& \n",
    "        \\underbrace{\\sum_{i=1}^{N-1}H_{\\mathrm{Kep},i}}_{\\mathrm{big}}\n",
    "        + \n",
    "        \\underbrace{\\sum_{i=1}^{N-1} \\sum_{j=1}^{i} H_{\\mathrm{int.}}^{(i,j)}}_{\\mathrm{small}}\n",
    "\\end{eqnarray}\n",
    "$$\n",
    "where\n",
    "$$\n",
    "    \\begin{eqnarray}\n",
    "H_{\\mathrm{Kep},i} \n",
    "    &=& \n",
    "    \\frac{1}{2}\\frac{|\\tilde{\\pmb{r}}_i|^2}{\\mu_i}   - \\frac{GM_i\\mu_i}{|\\pmb{r}_i|} \n",
    "\\\\\n",
    "H_{\\mathrm{int.}}^{(i,j)} \n",
    "&=&\n",
    "\\underbrace{-\\frac{Gm_im_j}{|\\pmb{r}_i - \\pmb{r}_j|}}_{\\mathrm{direct}} + \n",
    "\\underbrace{\\frac{\\tilde{\\pmb{r}}_i \\cdot \\tilde{\\pmb{r}}_j }{M_*}}_{\\mathrm{indirect}}\n",
    "\\end{eqnarray}\n",
    "$$"
   ]
  },
  {
   "cell_type": "markdown",
   "id": "51dad40a",
   "metadata": {
    "slideshow": {
     "slide_type": "slide"
    }
   },
   "source": [
    "# The disturbing function"
   ]
  },
  {
   "cell_type": "markdown",
   "id": "ebeb9d7b",
   "metadata": {
    "slideshow": {
     "slide_type": "fragment"
    }
   },
   "source": [
    "$$\n",
    "        -\\frac{Gm_im_j}{|\\mathbf{r}_i - \\mathbf{r}_j |} +\\frac{1}{m_*}\\mathbf{p}_i\\cdot\\mathbf{p}_j= \n",
    "        -\\frac{Gm_im_j}{a_j}\n",
    "        \\sum_{\\bf k}\n",
    "          S_\\mathbf{k}(a_i/a_j,e_i,e_i,I_i,I_j)\\cos(k_1\\lambda_j + k_2\\lambda_i - k_3\\varpi_i - k_4 \\varpi_j - k_5\\Omega_i - k_6\\Omega_j)\n",
    "$$\n",
    "Then exapnd $S_\\mathbf{k}$ in powers of eccentricity and inclination:\n",
    "$$\n",
    " S_\\mathbf{k}= \\sum_{\\nu_1,\\nu_2,\\nu_3,\\nu_4=0}^\\infty \n",
    "          \\tilde{C}_{\\bf k}^{\\pmb{\n",
    "         \\nu}}(a_i/a_j)\\sin(I_i/2)^{|k_5|+2\\nu_1}\\sin(I_j/2)^{|k_6|+2\\nu_2}e_i^{|k_3|+2\\nu_3}e_j^{|k_4|+2\\nu_4}\n",
    "$$"
   ]
  },
  {
   "cell_type": "code",
   "execution_count": 18,
   "id": "748428ba",
   "metadata": {},
   "outputs": [],
   "source": [
    "Lambda1,Lambda2 = poincare_particles.qp_vars[6],poincare_particles.qp_vars[9]"
   ]
  },
  {
   "cell_type": "code",
   "execution_count": 20,
   "id": "0f2072d0",
   "metadata": {},
   "outputs": [
    {
     "data": {
      "text/latex": [
       "$\\displaystyle \\left[ \\left( 0, \\  G\\right), \\  \\left( 1, \\  \\mu_{1}\\right), \\  \\left( 2, \\  m_{1}\\right), \\  \\left( 3, \\  M_{1}\\right), \\  \\left( 4, \\  \\Lambda_{1,0}\\right), \\  \\left( 5, \\  a_{1,0}\\right), \\  \\left( 6, \\  \\alpha_{1,2}\\right), \\  \\left( 7, \\  \\mu_{2}\\right), \\  \\left( 8, \\  m_{2}\\right), \\  \\left( 9, \\  M_{2}\\right), \\  \\left( 10, \\  \\Lambda_{2,0}\\right), \\  \\left( 11, \\  a_{2,0}\\right)\\right]$"
      ],
      "text/plain": [
       "[(0, G), (1, μ₁), (2, m₁), (3, M₁), (4, \\Lambda_{1,0}), (5, a_{1,0}), (6, \\alp\n",
       "ha_{1,2}), (7, μ₂), (8, m₂), (9, M₂), (10, \\Lambda_{2,0}), (11, a_{2,0})]"
      ]
     },
     "execution_count": 20,
     "metadata": {},
     "output_type": "execute_result"
    }
   ],
   "source": [
    "list(enumerate(Hp.H_params.keys()))"
   ]
  },
  {
   "cell_type": "code",
   "execution_count": 30,
   "id": "b78c4ee8",
   "metadata": {},
   "outputs": [],
   "source": [
    "G,mu1,m1,M1,mu2,m2,M2 = [list(enumerate(Hp.H_params.keys()))[i][1] for i in (0,1,2,3,7,8,9)]"
   ]
  },
  {
   "cell_type": "code",
   "execution_count": 24,
   "id": "5da6b40d",
   "metadata": {},
   "outputs": [],
   "source": [
    "import sympy as sp"
   ]
  },
  {
   "cell_type": "code",
   "execution_count": 38,
   "id": "9e152ebd",
   "metadata": {},
   "outputs": [],
   "source": [
    "a1,a2=sp.symbols(\"a(1:3)\")\n",
    "mstar = sp.symbols(\"M_*\")"
   ]
  },
  {
   "cell_type": "code",
   "execution_count": 37,
   "id": "ea76b83e",
   "metadata": {},
   "outputs": [
    {
     "data": {
      "text/latex": [
       "$\\displaystyle m_{*}$"
      ],
      "text/plain": [
       "m_*"
      ]
     },
     "execution_count": 37,
     "metadata": {},
     "output_type": "execute_result"
    }
   ],
   "source": [
    "mstar"
   ]
  },
  {
   "cell_type": "code",
   "execution_count": 32,
   "id": "79679d67",
   "metadata": {},
   "outputs": [
    {
     "data": {
      "text/latex": [
       "$\\displaystyle \\left\\{ \\Lambda_{1} : \\mu_{1} \\sqrt{G M_{1} a_{1}}, \\  \\Lambda_{2} : \\mu_{2} \\sqrt{G M_{2} a_{2}}\\right\\}$"
      ],
      "text/plain": [
       "⎧         _________           _________⎫\n",
       "⎨Λ₁: μ₁⋅╲╱ G⋅M₁⋅a₁ , Λ₂: μ₂⋅╲╱ G⋅M₂⋅a₂ ⎬\n",
       "⎩                                      ⎭"
      ]
     },
     "execution_count": 32,
     "metadata": {},
     "output_type": "execute_result"
    }
   ],
   "source": [
    "rule"
   ]
  },
  {
   "cell_type": "code",
   "execution_count": 42,
   "id": "dc73e0eb",
   "metadata": {},
   "outputs": [],
   "source": [
    "rule = {Lambda1:mu1*sp.sqrt(G*M1*a1) ,Lambda2:mu2*sp.sqrt(G*M2*a2)}\n",
    "mass_rule={M1:m1+mstar,M2:m2+mstar,mu1:m1*mstar/(m1 + mstar),mu2:m2*mstar/(m2 + mstar)}"
   ]
  },
  {
   "cell_type": "code",
   "execution_count": 44,
   "id": "2505bc1c",
   "metadata": {},
   "outputs": [
    {
     "data": {
      "text/latex": [
       "$\\displaystyle \\left\\{ \\Lambda_{1} : \\mu_{1} \\sqrt{G M_{1} a_{1}}, \\  \\Lambda_{2} : \\mu_{2} \\sqrt{G M_{2} a_{2}}\\right\\}$"
      ],
      "text/plain": [
       "⎧         _________           _________⎫\n",
       "⎨Λ₁: μ₁⋅╲╱ G⋅M₁⋅a₁ , Λ₂: μ₂⋅╲╱ G⋅M₂⋅a₂ ⎬\n",
       "⎩                                      ⎭"
      ]
     },
     "execution_count": 44,
     "metadata": {},
     "output_type": "execute_result"
    }
   ],
   "source": [
    "rule"
   ]
  },
  {
   "cell_type": "code",
   "execution_count": 45,
   "id": "68c75aed",
   "metadata": {},
   "outputs": [
    {
     "data": {
      "text/latex": [
       "$\\displaystyle \\left\\{ M_{1} : M_{*} + m_{1}, \\  M_{2} : M_{*} + m_{2}, \\  \\mu_{1} : \\frac{M_{*} m_{1}}{M_{*} + m_{1}}, \\  \\mu_{2} : \\frac{M_{*} m_{2}}{M_{*} + m_{2}}\\right\\}$"
      ],
      "text/plain": [
       "⎧                                 M_*⋅m₁        M_*⋅m₂ ⎫\n",
       "⎨M₁: M_* + m₁, M₂: M_* + m₂, μ₁: ────────, μ₂: ────────⎬\n",
       "⎩                                M_* + m₁      M_* + m₂⎭"
      ]
     },
     "execution_count": 45,
     "metadata": {},
     "output_type": "execute_result"
    }
   ],
   "source": [
    "mass_rule"
   ]
  },
  {
   "cell_type": "code",
   "execution_count": 47,
   "id": "1e40c520",
   "metadata": {},
   "outputs": [
    {
     "data": {
      "text/latex": [
       "$\\displaystyle - \\frac{G M_{*} m_{2}}{2 a_{2}} - \\frac{G M_{*} m_{1}}{2 a_{1}}$"
      ],
      "text/plain": [
       "  G⋅M_*⋅m₂   G⋅M_*⋅m₁\n",
       "- ──────── - ────────\n",
       "    2⋅a₂       2⋅a₁  "
      ]
     },
     "execution_count": 47,
     "metadata": {},
     "output_type": "execute_result"
    }
   ],
   "source": [
    "Hp.H.subs(rule).subs(mass_rule)"
   ]
  },
  {
   "cell_type": "code",
   "execution_count": 43,
   "id": "b7d73c3e",
   "metadata": {},
   "outputs": [
    {
     "data": {
      "text/latex": [
       "$\\displaystyle \\left( \\left\\{ \\Lambda_{1} : \\mu_{1} \\sqrt{G M_{1} a_{1}}, \\  \\Lambda_{2} : \\mu_{2} \\sqrt{G M_{2} a_{2}}\\right\\}, \\  - \\frac{G M_{1} \\mu_{1}}{2 a_{1}} - \\frac{G M_{2} \\mu_{2}}{2 a_{2}}\\right)$"
      ],
      "text/plain": [
       "⎛⎧         _________           _________⎫    G⋅M₁⋅μ₁   G⋅M₂⋅μ₂⎞\n",
       "⎜⎨Λ₁: μ₁⋅╲╱ G⋅M₁⋅a₁ , Λ₂: μ₂⋅╲╱ G⋅M₂⋅a₂ ⎬, - ─────── - ───────⎟\n",
       "⎝⎩                                      ⎭      2⋅a₁      2⋅a₂ ⎠"
      ]
     },
     "execution_count": 43,
     "metadata": {},
     "output_type": "execute_result"
    }
   ],
   "source": [
    "rule , Hp.H.subs(rule)"
   ]
  },
  {
   "cell_type": "code",
   "execution_count": null,
   "id": "bcb23a0f",
   "metadata": {},
   "outputs": [],
   "source": []
  }
 ],
 "metadata": {
  "celltoolbar": "Slideshow",
  "kernelspec": {
   "display_name": "Python 3 (ipykernel)",
   "language": "python",
   "name": "python3"
  },
  "language_info": {
   "codemirror_mode": {
    "name": "ipython",
    "version": 3
   },
   "file_extension": ".py",
   "mimetype": "text/x-python",
   "name": "python",
   "nbconvert_exporter": "python",
   "pygments_lexer": "ipython3",
   "version": "3.9.7"
  }
 },
 "nbformat": 4,
 "nbformat_minor": 5
}
